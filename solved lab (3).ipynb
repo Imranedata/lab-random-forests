{
 "cells": [
  {
   "cell_type": "markdown",
   "id": "f910bd66",
   "metadata": {},
   "source": [
    "# lab random forests"
   ]
  },
  {
   "cell_type": "code",
   "execution_count": 1,
   "id": "aeda07c6",
   "metadata": {},
   "outputs": [],
   "source": [
    "import pandas as pd\n",
    "import numpy as np\n"
   ]
  },
  {
   "cell_type": "code",
   "execution_count": 2,
   "id": "be8a46b9",
   "metadata": {},
   "outputs": [
    {
     "data": {
      "text/plain": [
       "TARGET_B\n",
       "0    90569\n",
       "1     4843\n",
       "Name: count, dtype: int64"
      ]
     },
     "execution_count": 2,
     "metadata": {},
     "output_type": "execute_result"
    }
   ],
   "source": [
    "numerical = pd.read_csv('numerical (1).csv')\n",
    "categorical = pd.read_csv('categorical (1).csv')\n",
    "targets = pd.read_csv('target (1).csv')\n",
    "data = pd.concat([numerical, categorical, targets], axis = 1)\n",
    "data['TARGET_B'].value_counts()"
   ]
  },
  {
   "cell_type": "code",
   "execution_count": 3,
   "id": "3517d130",
   "metadata": {},
   "outputs": [
    {
     "data": {
      "text/plain": [
       "(95412, 339)"
      ]
     },
     "execution_count": 3,
     "metadata": {},
     "output_type": "execute_result"
    }
   ],
   "source": [
    "data.shape"
   ]
  },
  {
   "cell_type": "code",
   "execution_count": 4,
   "id": "cfcba17d",
   "metadata": {
    "scrolled": false
   },
   "outputs": [
    {
     "name": "stdout",
     "output_type": "stream",
     "text": [
      "['TCODE', 'AGE', 'INCOME', 'WEALTH1', 'HIT', 'MALEMILI', 'MALEVET', 'VIETVETS', 'WWIIVETS', 'LOCALGOV', 'STATEGOV', 'FEDGOV', 'WEALTH2', 'POP901', 'POP902', 'POP903', 'POP90C1', 'POP90C2', 'POP90C3', 'POP90C4', 'POP90C5', 'ETH1', 'ETH2', 'ETH3', 'ETH4', 'ETH5', 'ETH6', 'ETH7', 'ETH8', 'ETH9', 'ETH10', 'ETH11', 'ETH12', 'ETH13', 'ETH14', 'ETH15', 'ETH16', 'AGE901', 'AGE902', 'AGE903', 'AGE904', 'AGE905', 'AGE906', 'AGE907', 'CHIL1', 'CHIL2', 'CHIL3', 'AGEC1', 'AGEC2', 'AGEC3', 'AGEC4', 'AGEC5', 'AGEC6', 'AGEC7', 'CHILC1', 'CHILC2', 'CHILC3', 'CHILC4', 'CHILC5', 'HHAGE1', 'HHAGE2', 'HHAGE3', 'HHN1', 'HHN2', 'HHN3', 'HHN4', 'HHN5', 'HHN6', 'MARR1', 'MARR2', 'MARR3', 'MARR4', 'HHP1', 'HHP2', 'DW1', 'DW2', 'DW3', 'DW4', 'DW5', 'DW6', 'DW7', 'DW8', 'DW9', 'HV1', 'HV2', 'HV3', 'HV4', 'HU1', 'HU2', 'HU3', 'HU4', 'HU5', 'HHD1', 'HHD2', 'HHD3', 'HHD4', 'HHD5', 'HHD6', 'HHD7', 'HHD8', 'HHD9', 'HHD10', 'HHD11', 'HHD12', 'ETHC1', 'ETHC2', 'ETHC3', 'ETHC4', 'ETHC5', 'ETHC6', 'HVP1', 'HVP2', 'HVP3', 'HVP4', 'HVP5', 'HVP6', 'HUR1', 'HUR2', 'RHP1', 'RHP2', 'RHP3', 'RHP4', 'HUPA1', 'HUPA2', 'HUPA3', 'HUPA4', 'HUPA5', 'HUPA6', 'HUPA7', 'RP1', 'RP2', 'RP3', 'RP4', 'MSA', 'ADI', 'DMA', 'IC1', 'IC2', 'IC3', 'IC4', 'IC5', 'IC6', 'IC7', 'IC8', 'IC9', 'IC10', 'IC11', 'IC12', 'IC13', 'IC14', 'IC15', 'IC16', 'IC17', 'IC18', 'IC19', 'IC20', 'IC21', 'IC22', 'IC23', 'HHAS1', 'HHAS2', 'HHAS3', 'HHAS4', 'MC1', 'MC2', 'MC3', 'TPE1', 'TPE2', 'TPE3', 'TPE4', 'TPE5', 'TPE6', 'TPE7', 'TPE8', 'TPE9', 'PEC1', 'PEC2', 'TPE10', 'TPE11', 'TPE12', 'TPE13', 'LFC1', 'LFC2', 'LFC3', 'LFC4', 'LFC5', 'LFC6', 'LFC7', 'LFC8', 'LFC9', 'LFC10', 'OCC1', 'OCC2', 'OCC3', 'OCC4', 'OCC5', 'OCC6', 'OCC7', 'OCC8', 'OCC9', 'OCC10', 'OCC11', 'OCC12', 'OCC13', 'EIC1', 'EIC2', 'EIC3', 'EIC4', 'EIC5', 'EIC6', 'EIC7', 'EIC8', 'EIC9', 'EIC10', 'EIC11', 'EIC12', 'EIC13', 'EIC14', 'EIC15', 'EIC16', 'OEDC1', 'OEDC2', 'OEDC3', 'OEDC4', 'OEDC5', 'OEDC6', 'OEDC7', 'EC1', 'EC2', 'EC3', 'EC4', 'EC5', 'EC6', 'EC7', 'EC8', 'SEC1', 'SEC2', 'SEC3', 'SEC4', 'SEC5', 'AFC1', 'AFC2', 'AFC3', 'AFC4', 'AFC5', 'AFC6', 'VC1', 'VC2', 'VC3', 'VC4', 'ANC1', 'ANC2', 'ANC3', 'ANC4', 'ANC5', 'ANC6', 'ANC7', 'ANC8', 'ANC9', 'ANC10', 'ANC11', 'ANC12', 'ANC13', 'ANC14', 'ANC15', 'POBC1', 'POBC2', 'LSC1', 'LSC2', 'LSC3', 'LSC4', 'VOC1', 'VOC2', 'VOC3', 'HC1', 'HC2', 'HC3', 'HC4', 'HC5', 'HC6', 'HC7', 'HC8', 'HC9', 'HC10', 'HC11', 'HC12', 'HC13', 'HC14', 'HC15', 'HC16', 'HC17', 'HC18', 'HC19', 'HC20', 'HC21', 'MHUC1', 'MHUC2', 'AC1', 'AC2', 'CARDPROM', 'NUMPROM', 'CARDPM12', 'NUMPRM12', 'RAMNTALL', 'NGIFTALL', 'CARDGIFT', 'MINRAMNT', 'MAXRAMNT', 'LASTGIFT', 'TIMELAG', 'AVGGIFT', 'CONTROLN', 'HPHONE_D', 'RFA_2F', 'CLUSTER2', 'STATE', 'CLUSTER', 'HOMEOWNR', 'GENDER', 'DATASRCE', 'RFA_2R', 'RFA_2A', 'GEOCODE2', 'DOMAIN_A', 'DOMAIN_B', 'ODATEW_YR', 'ODATEW_MM', 'DOB_YR', 'DOB_MM', 'MINRDATE_YR', 'MINRDATE_MM', 'MAXRDATE_YR', 'MAXRDATE_MM', 'LASTDATE_YR', 'LASTDATE_MM', 'FIRSTDATE_YR', 'FIRSTDATE_MM', 'TARGET_B', 'TARGET_D']\n"
     ]
    }
   ],
   "source": [
    "print(data.columns.tolist())"
   ]
  },
  {
   "cell_type": "code",
   "execution_count": 5,
   "id": "36625af3",
   "metadata": {},
   "outputs": [
    {
     "data": {
      "text/plain": [
       "Series([], dtype: int64)"
      ]
     },
     "execution_count": 5,
     "metadata": {},
     "output_type": "execute_result"
    }
   ],
   "source": [
    "nan=data.isna().sum()\n",
    "nan[nan!=0]"
   ]
  },
  {
   "cell_type": "code",
   "execution_count": 6,
   "id": "203dc3d3",
   "metadata": {},
   "outputs": [
    {
     "data": {
      "text/html": [
       "<div>\n",
       "<style scoped>\n",
       "    .dataframe tbody tr th:only-of-type {\n",
       "        vertical-align: middle;\n",
       "    }\n",
       "\n",
       "    .dataframe tbody tr th {\n",
       "        vertical-align: top;\n",
       "    }\n",
       "\n",
       "    .dataframe thead th {\n",
       "        text-align: right;\n",
       "    }\n",
       "</style>\n",
       "<table border=\"1\" class=\"dataframe\">\n",
       "  <thead>\n",
       "    <tr style=\"text-align: right;\">\n",
       "      <th></th>\n",
       "      <th>TCODE</th>\n",
       "      <th>AGE</th>\n",
       "      <th>INCOME</th>\n",
       "      <th>WEALTH1</th>\n",
       "      <th>HIT</th>\n",
       "      <th>MALEMILI</th>\n",
       "      <th>MALEVET</th>\n",
       "      <th>VIETVETS</th>\n",
       "      <th>WWIIVETS</th>\n",
       "      <th>LOCALGOV</th>\n",
       "      <th>...</th>\n",
       "      <th>MINRDATE_YR</th>\n",
       "      <th>MINRDATE_MM</th>\n",
       "      <th>MAXRDATE_YR</th>\n",
       "      <th>MAXRDATE_MM</th>\n",
       "      <th>LASTDATE_YR</th>\n",
       "      <th>LASTDATE_MM</th>\n",
       "      <th>FIRSTDATE_YR</th>\n",
       "      <th>FIRSTDATE_MM</th>\n",
       "      <th>TARGET_B</th>\n",
       "      <th>TARGET_D</th>\n",
       "    </tr>\n",
       "  </thead>\n",
       "  <tbody>\n",
       "    <tr>\n",
       "      <th>0</th>\n",
       "      <td>0</td>\n",
       "      <td>60.000000</td>\n",
       "      <td>5</td>\n",
       "      <td>9</td>\n",
       "      <td>0</td>\n",
       "      <td>0</td>\n",
       "      <td>39</td>\n",
       "      <td>34</td>\n",
       "      <td>18</td>\n",
       "      <td>10</td>\n",
       "      <td>...</td>\n",
       "      <td>92</td>\n",
       "      <td>8</td>\n",
       "      <td>94</td>\n",
       "      <td>2</td>\n",
       "      <td>95</td>\n",
       "      <td>12</td>\n",
       "      <td>89</td>\n",
       "      <td>11</td>\n",
       "      <td>0</td>\n",
       "      <td>0.0</td>\n",
       "    </tr>\n",
       "    <tr>\n",
       "      <th>1</th>\n",
       "      <td>1</td>\n",
       "      <td>46.000000</td>\n",
       "      <td>6</td>\n",
       "      <td>9</td>\n",
       "      <td>16</td>\n",
       "      <td>0</td>\n",
       "      <td>15</td>\n",
       "      <td>55</td>\n",
       "      <td>11</td>\n",
       "      <td>6</td>\n",
       "      <td>...</td>\n",
       "      <td>93</td>\n",
       "      <td>10</td>\n",
       "      <td>95</td>\n",
       "      <td>12</td>\n",
       "      <td>95</td>\n",
       "      <td>12</td>\n",
       "      <td>93</td>\n",
       "      <td>10</td>\n",
       "      <td>0</td>\n",
       "      <td>0.0</td>\n",
       "    </tr>\n",
       "    <tr>\n",
       "      <th>2</th>\n",
       "      <td>1</td>\n",
       "      <td>61.611649</td>\n",
       "      <td>3</td>\n",
       "      <td>1</td>\n",
       "      <td>2</td>\n",
       "      <td>0</td>\n",
       "      <td>20</td>\n",
       "      <td>29</td>\n",
       "      <td>33</td>\n",
       "      <td>6</td>\n",
       "      <td>...</td>\n",
       "      <td>91</td>\n",
       "      <td>11</td>\n",
       "      <td>92</td>\n",
       "      <td>7</td>\n",
       "      <td>95</td>\n",
       "      <td>12</td>\n",
       "      <td>90</td>\n",
       "      <td>1</td>\n",
       "      <td>0</td>\n",
       "      <td>0.0</td>\n",
       "    </tr>\n",
       "    <tr>\n",
       "      <th>3</th>\n",
       "      <td>0</td>\n",
       "      <td>70.000000</td>\n",
       "      <td>1</td>\n",
       "      <td>4</td>\n",
       "      <td>2</td>\n",
       "      <td>0</td>\n",
       "      <td>23</td>\n",
       "      <td>14</td>\n",
       "      <td>31</td>\n",
       "      <td>3</td>\n",
       "      <td>...</td>\n",
       "      <td>87</td>\n",
       "      <td>11</td>\n",
       "      <td>94</td>\n",
       "      <td>11</td>\n",
       "      <td>95</td>\n",
       "      <td>12</td>\n",
       "      <td>87</td>\n",
       "      <td>2</td>\n",
       "      <td>0</td>\n",
       "      <td>0.0</td>\n",
       "    </tr>\n",
       "    <tr>\n",
       "      <th>4</th>\n",
       "      <td>0</td>\n",
       "      <td>78.000000</td>\n",
       "      <td>3</td>\n",
       "      <td>2</td>\n",
       "      <td>60</td>\n",
       "      <td>1</td>\n",
       "      <td>28</td>\n",
       "      <td>9</td>\n",
       "      <td>53</td>\n",
       "      <td>26</td>\n",
       "      <td>...</td>\n",
       "      <td>93</td>\n",
       "      <td>10</td>\n",
       "      <td>96</td>\n",
       "      <td>1</td>\n",
       "      <td>96</td>\n",
       "      <td>1</td>\n",
       "      <td>79</td>\n",
       "      <td>3</td>\n",
       "      <td>0</td>\n",
       "      <td>0.0</td>\n",
       "    </tr>\n",
       "    <tr>\n",
       "      <th>...</th>\n",
       "      <td>...</td>\n",
       "      <td>...</td>\n",
       "      <td>...</td>\n",
       "      <td>...</td>\n",
       "      <td>...</td>\n",
       "      <td>...</td>\n",
       "      <td>...</td>\n",
       "      <td>...</td>\n",
       "      <td>...</td>\n",
       "      <td>...</td>\n",
       "      <td>...</td>\n",
       "      <td>...</td>\n",
       "      <td>...</td>\n",
       "      <td>...</td>\n",
       "      <td>...</td>\n",
       "      <td>...</td>\n",
       "      <td>...</td>\n",
       "      <td>...</td>\n",
       "      <td>...</td>\n",
       "      <td>...</td>\n",
       "      <td>...</td>\n",
       "    </tr>\n",
       "    <tr>\n",
       "      <th>95407</th>\n",
       "      <td>1</td>\n",
       "      <td>61.611649</td>\n",
       "      <td>5</td>\n",
       "      <td>9</td>\n",
       "      <td>0</td>\n",
       "      <td>14</td>\n",
       "      <td>36</td>\n",
       "      <td>47</td>\n",
       "      <td>11</td>\n",
       "      <td>7</td>\n",
       "      <td>...</td>\n",
       "      <td>96</td>\n",
       "      <td>2</td>\n",
       "      <td>96</td>\n",
       "      <td>2</td>\n",
       "      <td>96</td>\n",
       "      <td>2</td>\n",
       "      <td>96</td>\n",
       "      <td>2</td>\n",
       "      <td>0</td>\n",
       "      <td>0.0</td>\n",
       "    </tr>\n",
       "    <tr>\n",
       "      <th>95408</th>\n",
       "      <td>1</td>\n",
       "      <td>48.000000</td>\n",
       "      <td>7</td>\n",
       "      <td>9</td>\n",
       "      <td>1</td>\n",
       "      <td>0</td>\n",
       "      <td>31</td>\n",
       "      <td>43</td>\n",
       "      <td>19</td>\n",
       "      <td>4</td>\n",
       "      <td>...</td>\n",
       "      <td>96</td>\n",
       "      <td>3</td>\n",
       "      <td>96</td>\n",
       "      <td>3</td>\n",
       "      <td>96</td>\n",
       "      <td>3</td>\n",
       "      <td>96</td>\n",
       "      <td>3</td>\n",
       "      <td>0</td>\n",
       "      <td>0.0</td>\n",
       "    </tr>\n",
       "    <tr>\n",
       "      <th>95409</th>\n",
       "      <td>1</td>\n",
       "      <td>60.000000</td>\n",
       "      <td>5</td>\n",
       "      <td>9</td>\n",
       "      <td>0</td>\n",
       "      <td>0</td>\n",
       "      <td>18</td>\n",
       "      <td>46</td>\n",
       "      <td>20</td>\n",
       "      <td>7</td>\n",
       "      <td>...</td>\n",
       "      <td>96</td>\n",
       "      <td>3</td>\n",
       "      <td>95</td>\n",
       "      <td>1</td>\n",
       "      <td>96</td>\n",
       "      <td>10</td>\n",
       "      <td>94</td>\n",
       "      <td>10</td>\n",
       "      <td>0</td>\n",
       "      <td>0.0</td>\n",
       "    </tr>\n",
       "    <tr>\n",
       "      <th>95410</th>\n",
       "      <td>0</td>\n",
       "      <td>58.000000</td>\n",
       "      <td>7</td>\n",
       "      <td>9</td>\n",
       "      <td>0</td>\n",
       "      <td>0</td>\n",
       "      <td>28</td>\n",
       "      <td>35</td>\n",
       "      <td>20</td>\n",
       "      <td>9</td>\n",
       "      <td>...</td>\n",
       "      <td>90</td>\n",
       "      <td>11</td>\n",
       "      <td>96</td>\n",
       "      <td>8</td>\n",
       "      <td>97</td>\n",
       "      <td>1</td>\n",
       "      <td>86</td>\n",
       "      <td>12</td>\n",
       "      <td>1</td>\n",
       "      <td>18.0</td>\n",
       "    </tr>\n",
       "    <tr>\n",
       "      <th>95411</th>\n",
       "      <td>2</td>\n",
       "      <td>80.000000</td>\n",
       "      <td>5</td>\n",
       "      <td>8</td>\n",
       "      <td>3</td>\n",
       "      <td>1</td>\n",
       "      <td>33</td>\n",
       "      <td>22</td>\n",
       "      <td>27</td>\n",
       "      <td>8</td>\n",
       "      <td>...</td>\n",
       "      <td>88</td>\n",
       "      <td>12</td>\n",
       "      <td>93</td>\n",
       "      <td>12</td>\n",
       "      <td>96</td>\n",
       "      <td>12</td>\n",
       "      <td>88</td>\n",
       "      <td>3</td>\n",
       "      <td>0</td>\n",
       "      <td>0.0</td>\n",
       "    </tr>\n",
       "  </tbody>\n",
       "</table>\n",
       "<p>95412 rows × 339 columns</p>\n",
       "</div>"
      ],
      "text/plain": [
       "       TCODE        AGE  INCOME  WEALTH1  HIT  MALEMILI  MALEVET  VIETVETS  \\\n",
       "0          0  60.000000       5        9    0         0       39        34   \n",
       "1          1  46.000000       6        9   16         0       15        55   \n",
       "2          1  61.611649       3        1    2         0       20        29   \n",
       "3          0  70.000000       1        4    2         0       23        14   \n",
       "4          0  78.000000       3        2   60         1       28         9   \n",
       "...      ...        ...     ...      ...  ...       ...      ...       ...   \n",
       "95407      1  61.611649       5        9    0        14       36        47   \n",
       "95408      1  48.000000       7        9    1         0       31        43   \n",
       "95409      1  60.000000       5        9    0         0       18        46   \n",
       "95410      0  58.000000       7        9    0         0       28        35   \n",
       "95411      2  80.000000       5        8    3         1       33        22   \n",
       "\n",
       "       WWIIVETS  LOCALGOV  ...  MINRDATE_YR  MINRDATE_MM  MAXRDATE_YR  \\\n",
       "0            18        10  ...           92            8           94   \n",
       "1            11         6  ...           93           10           95   \n",
       "2            33         6  ...           91           11           92   \n",
       "3            31         3  ...           87           11           94   \n",
       "4            53        26  ...           93           10           96   \n",
       "...         ...       ...  ...          ...          ...          ...   \n",
       "95407        11         7  ...           96            2           96   \n",
       "95408        19         4  ...           96            3           96   \n",
       "95409        20         7  ...           96            3           95   \n",
       "95410        20         9  ...           90           11           96   \n",
       "95411        27         8  ...           88           12           93   \n",
       "\n",
       "       MAXRDATE_MM  LASTDATE_YR  LASTDATE_MM  FIRSTDATE_YR  FIRSTDATE_MM  \\\n",
       "0                2           95           12            89            11   \n",
       "1               12           95           12            93            10   \n",
       "2                7           95           12            90             1   \n",
       "3               11           95           12            87             2   \n",
       "4                1           96            1            79             3   \n",
       "...            ...          ...          ...           ...           ...   \n",
       "95407            2           96            2            96             2   \n",
       "95408            3           96            3            96             3   \n",
       "95409            1           96           10            94            10   \n",
       "95410            8           97            1            86            12   \n",
       "95411           12           96           12            88             3   \n",
       "\n",
       "       TARGET_B  TARGET_D  \n",
       "0             0       0.0  \n",
       "1             0       0.0  \n",
       "2             0       0.0  \n",
       "3             0       0.0  \n",
       "4             0       0.0  \n",
       "...         ...       ...  \n",
       "95407         0       0.0  \n",
       "95408         0       0.0  \n",
       "95409         0       0.0  \n",
       "95410         1      18.0  \n",
       "95411         0       0.0  \n",
       "\n",
       "[95412 rows x 339 columns]"
      ]
     },
     "execution_count": 6,
     "metadata": {},
     "output_type": "execute_result"
    }
   ],
   "source": [
    "data"
   ]
  },
  {
   "cell_type": "code",
   "execution_count": 7,
   "id": "f9170314",
   "metadata": {},
   "outputs": [
    {
     "name": "stdout",
     "output_type": "stream",
     "text": [
      "The class imbalance ratio is: 0.90\n"
     ]
    }
   ],
   "source": [
    "#class imbalance:\n",
    "count_classes = data['TARGET_B'].value_counts()\n",
    "print(\"The class imbalance ratio is: {:.2f}\".format((count_classes[0]-count_classes[1])/(count_classes[0]+count_classes[1])))"
   ]
  },
  {
   "cell_type": "code",
   "execution_count": 8,
   "id": "eaa5f2e7",
   "metadata": {},
   "outputs": [],
   "source": [
    "from sklearn.model_selection import train_test_split\n",
    "\n",
    "from sklearn.preprocessing import OneHotEncoder\n",
    "\n",
    "y = data['TARGET_B']\n",
    "X = data.drop(['TARGET_B'], axis = 1) \n",
    "\n",
    "X_train, X_test, y_train, y_test = train_test_split(X, y, test_size=0.2, random_state=0)\n",
    "\n",
    "\n",
    "X_cat  = X.select_dtypes(object)\n",
    "levels = [ list(X[col].unique()) for col in X_cat.columns ]\n",
    "\n",
    "\n",
    "X_train_num = X_train.select_dtypes(np.number)\n",
    "X_test_num  = X_test.select_dtypes(np.number)\n",
    "\n",
    "X_train_cat = X_train.select_dtypes(object)\n",
    "X_test_cat  = X_test.select_dtypes(object)\n",
    "\n",
    "encoder = OneHotEncoder(drop='first', categories=levels).fit(X_train_cat)\n",
    "\n",
    "X_train_cat_encoded_np = encoder.transform(X_train_cat).toarray()\n",
    "X_test_cat_encoded_np  = encoder.transform(X_test_cat).toarray()\n",
    "\n",
    "X_train_cat_encoded_df = pd.DataFrame(X_train_cat_encoded_np, columns=encoder.get_feature_names_out(), index=X_train.index)\n",
    "X_test_cat_encoded_df  = pd.DataFrame(X_test_cat_encoded_np,  columns=encoder.get_feature_names_out(), index=X_test.index)\n",
    "\n",
    "X_train = pd.concat([X_train_num, X_train_cat_encoded_df], axis = 1)\n",
    "X_test  = pd.concat([X_test_num, X_test_cat_encoded_df], axis = 1)"
   ]
  },
  {
   "cell_type": "code",
   "execution_count": 9,
   "id": "99d8ffdc",
   "metadata": {},
   "outputs": [
    {
     "name": "stdout",
     "output_type": "stream",
     "text": [
      "(76329, 355)\n",
      "(72486,)\n"
     ]
    }
   ],
   "source": [
    "from collections import Counter\n",
    "from imblearn.over_sampling import RandomOverSampler \n",
    "print(X_train.shape)\n",
    "print(y_train[y_train== 0].shape)"
   ]
  },
  {
   "cell_type": "code",
   "execution_count": 10,
   "id": "35a04530",
   "metadata": {},
   "outputs": [
    {
     "data": {
      "text/html": [
       "<div>\n",
       "<style scoped>\n",
       "    .dataframe tbody tr th:only-of-type {\n",
       "        vertical-align: middle;\n",
       "    }\n",
       "\n",
       "    .dataframe tbody tr th {\n",
       "        vertical-align: top;\n",
       "    }\n",
       "\n",
       "    .dataframe thead th {\n",
       "        text-align: right;\n",
       "    }\n",
       "</style>\n",
       "<table border=\"1\" class=\"dataframe\">\n",
       "  <thead>\n",
       "    <tr style=\"text-align: right;\">\n",
       "      <th></th>\n",
       "      <th>TCODE</th>\n",
       "      <th>AGE</th>\n",
       "      <th>INCOME</th>\n",
       "      <th>WEALTH1</th>\n",
       "      <th>HIT</th>\n",
       "      <th>MALEMILI</th>\n",
       "      <th>MALEVET</th>\n",
       "      <th>VIETVETS</th>\n",
       "      <th>WWIIVETS</th>\n",
       "      <th>LOCALGOV</th>\n",
       "      <th>...</th>\n",
       "      <th>RFA_2A_F</th>\n",
       "      <th>RFA_2A_D</th>\n",
       "      <th>GEOCODE2_A</th>\n",
       "      <th>GEOCODE2_D</th>\n",
       "      <th>GEOCODE2_B</th>\n",
       "      <th>DOMAIN_A_S</th>\n",
       "      <th>DOMAIN_A_R</th>\n",
       "      <th>DOMAIN_A_U</th>\n",
       "      <th>DOMAIN_A_C</th>\n",
       "      <th>TARGET_B</th>\n",
       "    </tr>\n",
       "  </thead>\n",
       "  <tbody>\n",
       "    <tr>\n",
       "      <th>0</th>\n",
       "      <td>1</td>\n",
       "      <td>75.0</td>\n",
       "      <td>4</td>\n",
       "      <td>6</td>\n",
       "      <td>2</td>\n",
       "      <td>0</td>\n",
       "      <td>31</td>\n",
       "      <td>10</td>\n",
       "      <td>68</td>\n",
       "      <td>6</td>\n",
       "      <td>...</td>\n",
       "      <td>0.0</td>\n",
       "      <td>1.0</td>\n",
       "      <td>0.0</td>\n",
       "      <td>0.0</td>\n",
       "      <td>1.0</td>\n",
       "      <td>0.0</td>\n",
       "      <td>0.0</td>\n",
       "      <td>0.0</td>\n",
       "      <td>1.0</td>\n",
       "      <td>0</td>\n",
       "    </tr>\n",
       "    <tr>\n",
       "      <th>1</th>\n",
       "      <td>0</td>\n",
       "      <td>53.0</td>\n",
       "      <td>5</td>\n",
       "      <td>9</td>\n",
       "      <td>0</td>\n",
       "      <td>0</td>\n",
       "      <td>29</td>\n",
       "      <td>24</td>\n",
       "      <td>38</td>\n",
       "      <td>7</td>\n",
       "      <td>...</td>\n",
       "      <td>1.0</td>\n",
       "      <td>0.0</td>\n",
       "      <td>0.0</td>\n",
       "      <td>0.0</td>\n",
       "      <td>0.0</td>\n",
       "      <td>0.0</td>\n",
       "      <td>1.0</td>\n",
       "      <td>0.0</td>\n",
       "      <td>0.0</td>\n",
       "      <td>0</td>\n",
       "    </tr>\n",
       "    <tr>\n",
       "      <th>2</th>\n",
       "      <td>1</td>\n",
       "      <td>60.0</td>\n",
       "      <td>5</td>\n",
       "      <td>1</td>\n",
       "      <td>5</td>\n",
       "      <td>0</td>\n",
       "      <td>42</td>\n",
       "      <td>16</td>\n",
       "      <td>62</td>\n",
       "      <td>10</td>\n",
       "      <td>...</td>\n",
       "      <td>0.0</td>\n",
       "      <td>0.0</td>\n",
       "      <td>1.0</td>\n",
       "      <td>0.0</td>\n",
       "      <td>0.0</td>\n",
       "      <td>0.0</td>\n",
       "      <td>0.0</td>\n",
       "      <td>0.0</td>\n",
       "      <td>1.0</td>\n",
       "      <td>1</td>\n",
       "    </tr>\n",
       "    <tr>\n",
       "      <th>3</th>\n",
       "      <td>1</td>\n",
       "      <td>77.0</td>\n",
       "      <td>6</td>\n",
       "      <td>6</td>\n",
       "      <td>9</td>\n",
       "      <td>1</td>\n",
       "      <td>40</td>\n",
       "      <td>23</td>\n",
       "      <td>41</td>\n",
       "      <td>8</td>\n",
       "      <td>...</td>\n",
       "      <td>1.0</td>\n",
       "      <td>0.0</td>\n",
       "      <td>1.0</td>\n",
       "      <td>0.0</td>\n",
       "      <td>0.0</td>\n",
       "      <td>0.0</td>\n",
       "      <td>0.0</td>\n",
       "      <td>1.0</td>\n",
       "      <td>0.0</td>\n",
       "      <td>0</td>\n",
       "    </tr>\n",
       "    <tr>\n",
       "      <th>4</th>\n",
       "      <td>3</td>\n",
       "      <td>55.0</td>\n",
       "      <td>5</td>\n",
       "      <td>2</td>\n",
       "      <td>21</td>\n",
       "      <td>33</td>\n",
       "      <td>27</td>\n",
       "      <td>29</td>\n",
       "      <td>18</td>\n",
       "      <td>12</td>\n",
       "      <td>...</td>\n",
       "      <td>1.0</td>\n",
       "      <td>0.0</td>\n",
       "      <td>0.0</td>\n",
       "      <td>0.0</td>\n",
       "      <td>1.0</td>\n",
       "      <td>0.0</td>\n",
       "      <td>0.0</td>\n",
       "      <td>0.0</td>\n",
       "      <td>1.0</td>\n",
       "      <td>0</td>\n",
       "    </tr>\n",
       "  </tbody>\n",
       "</table>\n",
       "<p>5 rows × 356 columns</p>\n",
       "</div>"
      ],
      "text/plain": [
       "   TCODE   AGE  INCOME  WEALTH1  HIT  MALEMILI  MALEVET  VIETVETS  WWIIVETS  \\\n",
       "0      1  75.0       4        6    2         0       31        10        68   \n",
       "1      0  53.0       5        9    0         0       29        24        38   \n",
       "2      1  60.0       5        1    5         0       42        16        62   \n",
       "3      1  77.0       6        6    9         1       40        23        41   \n",
       "4      3  55.0       5        2   21        33       27        29        18   \n",
       "\n",
       "   LOCALGOV  ...  RFA_2A_F  RFA_2A_D  GEOCODE2_A  GEOCODE2_D  GEOCODE2_B  \\\n",
       "0         6  ...       0.0       1.0         0.0         0.0         1.0   \n",
       "1         7  ...       1.0       0.0         0.0         0.0         0.0   \n",
       "2        10  ...       0.0       0.0         1.0         0.0         0.0   \n",
       "3         8  ...       1.0       0.0         1.0         0.0         0.0   \n",
       "4        12  ...       1.0       0.0         0.0         0.0         1.0   \n",
       "\n",
       "   DOMAIN_A_S  DOMAIN_A_R  DOMAIN_A_U  DOMAIN_A_C  TARGET_B  \n",
       "0         0.0         0.0         0.0         1.0         0  \n",
       "1         0.0         1.0         0.0         0.0         0  \n",
       "2         0.0         0.0         0.0         1.0         1  \n",
       "3         0.0         0.0         1.0         0.0         0  \n",
       "4         0.0         0.0         0.0         1.0         0  \n",
       "\n",
       "[5 rows x 356 columns]"
      ]
     },
     "metadata": {},
     "output_type": "display_data"
    },
    {
     "name": "stdout",
     "output_type": "stream",
     "text": [
      "Resampled dataset shape Counter({0: 72486, 1: 72486})\n",
      "TARGET_B\n",
      "0    72486\n",
      "1    72486\n",
      "Name: count, dtype: int64\n"
     ]
    }
   ],
   "source": [
    "ros = RandomOverSampler(random_state=42)\n",
    "\n",
    "X_train_oversampled, y_train_oversampled = ros.fit_resample(X_train, y_train)\n",
    "display(pd.concat([X_train_oversampled,y_train_oversampled],axis=1).head())\n",
    "print('Resampled dataset shape %s' % Counter(y_train_oversampled))\n",
    "print(y_train_oversampled.value_counts())"
   ]
  },
  {
   "cell_type": "code",
   "execution_count": 11,
   "id": "116f3811",
   "metadata": {},
   "outputs": [
    {
     "data": {
      "text/plain": [
       "((144972, 355), (144972,))"
      ]
     },
     "execution_count": 11,
     "metadata": {},
     "output_type": "execute_result"
    }
   ],
   "source": [
    "X_train_oversampled.shape, y_train_oversampled.shape"
   ]
  },
  {
   "cell_type": "code",
   "execution_count": 12,
   "id": "40098f54",
   "metadata": {},
   "outputs": [
    {
     "name": "stdout",
     "output_type": "stream",
     "text": [
      "The Accuracy for the Random Forest in the TRAIN set is 1.00\n",
      "The Accuracy for the Random Forest in the TEST  set is 0.99\n"
     ]
    },
    {
     "data": {
      "text/plain": [
       "<sklearn.metrics._plot.confusion_matrix.ConfusionMatrixDisplay at 0x177f2388d50>"
      ]
     },
     "execution_count": 12,
     "metadata": {},
     "output_type": "execute_result"
    },
    {
     "data": {
      "image/png": "[encoded data removed]",
      "text/plain": [
       "<Figure size 640x480 with 2 Axes>"
      ]
     },
     "metadata": {},
     "output_type": "display_data"
    }
   ],
   "source": [
    "from sklearn.ensemble import RandomForestClassifier\n",
    "from sklearn.metrics import confusion_matrix, ConfusionMatrixDisplay\n",
    "import matplotlib.pyplot as plt\n",
    "\n",
    "\n",
    "clf = RandomForestClassifier(max_depth=5,\n",
    "                             min_samples_split=20,\n",
    "                             min_samples_leaf =20,\n",
    "                             max_samples=0.8,\n",
    "                             random_state = 42)\n",
    "\n",
    "clf.fit(X_train_oversampled, y_train_oversampled)\n",
    "\n",
    "print(\"The Accuracy for the Random Forest in the TRAIN set is {:.2f}\".format(clf.score(X_train_oversampled, y_train_oversampled)))\n",
    "print(\"The Accuracy for the Random Forest in the TEST  set is {:.2f}\".format(clf.score(X_test, y_test)))\n",
    "\n",
    "y_test_pred = clf.predict(X_test)\n",
    "cm_test = confusion_matrix(y_test, y_test_pred)\n",
    "disp = ConfusionMatrixDisplay(cm_test, display_labels=clf.classes_);\n",
    "disp.plot()"
   ]
  },
  {
   "cell_type": "code",
   "execution_count": 13,
   "id": "c190c238",
   "metadata": {},
   "outputs": [
    {
     "name": "stdout",
     "output_type": "stream",
     "text": [
      "The accuracy in the TEST set is: 0.99\n",
      "The precision in the TEST set is: 0.89\n",
      "The recall in the TEST set is: 0.99\n",
      "The F1 in the TEST set is: 0.94\n",
      "The Kappa in the TEST set is: 0.93\n"
     ]
    }
   ],
   "source": [
    "from sklearn.metrics import accuracy_score,precision_score,recall_score,f1_score,cohen_kappa_score\n",
    "\n",
    "print(\"The accuracy in the TEST set is: {:.2f}\".format(accuracy_score(y_test,y_test_pred)))\n",
    "print(\"The precision in the TEST set is: {:.2f}\".format(precision_score(y_test,y_test_pred)))\n",
    "print(\"The recall in the TEST set is: {:.2f}\".format(recall_score(y_test,y_test_pred)))\n",
    "print(\"The F1 in the TEST set is: {:.2f}\".format(f1_score(y_test,y_test_pred)))\n",
    "print(\"The Kappa in the TEST set is: {:.2f}\".format(cohen_kappa_score(y_test,y_test_pred)))"
   ]
  },
  {
   "cell_type": "code",
   "execution_count": null,
   "id": "159eb5d0",
   "metadata": {},
   "outputs": [],
   "source": [
    "# Discuss the model predictions and it's impact in the bussiness scenario. Is the cost of a false positive equals to the cost of the false negative? How much the money the company will not earn because of missclassifications made by the model? (TARGET D column lists the amount of donation)"
   ]
  },
  {
   "cell_type": "markdown",
   "id": "184e7882",
   "metadata": {},
   "source": [
    "According to the above, the model is close to perfection across all metrics. Even the Kappa is amazing. Is that because of overfitting due to the massive oversampling I had to do to fix 90% class imbalance?"
   ]
  },
  {
   "cell_type": "code",
   "execution_count": 14,
   "id": "3c2ec1d2",
   "metadata": {},
   "outputs": [
    {
     "data": {
      "text/plain": [
       "75668.7"
      ]
     },
     "execution_count": 14,
     "metadata": {},
     "output_type": "execute_result"
    }
   ],
   "source": [
    "donors=targets[targets[\"TARGET_D\"]!=0]\n",
    "total_donations=donors[\"TARGET_D\"].sum() # this is the total money donated\n",
    "total_donations"
   ]
  },
  {
   "cell_type": "code",
   "execution_count": 15,
   "id": "a81aff68",
   "metadata": {},
   "outputs": [
    {
     "data": {
      "text/plain": [
       "54256    True\n",
       "17623    True\n",
       "66327    True\n",
       "78543    True\n",
       "62055    True\n",
       "16277    True\n",
       "Name: TARGET_B, dtype: bool"
      ]
     },
     "execution_count": 15,
     "metadata": {},
     "output_type": "execute_result"
    }
   ],
   "source": [
    "false_neg_indices=(y_test==1)&(y_test_pred==0)\n",
    "false_neg_indices=false_neg_indices[false_neg_indices==True]\n",
    "false_neg_indices"
   ]
  },
  {
   "cell_type": "code",
   "execution_count": 16,
   "id": "86fadc3f",
   "metadata": {},
   "outputs": [
    {
     "data": {
      "text/html": [
       "<div>\n",
       "<style scoped>\n",
       "    .dataframe tbody tr th:only-of-type {\n",
       "        vertical-align: middle;\n",
       "    }\n",
       "\n",
       "    .dataframe tbody tr th {\n",
       "        vertical-align: top;\n",
       "    }\n",
       "\n",
       "    .dataframe thead th {\n",
       "        text-align: right;\n",
       "    }\n",
       "</style>\n",
       "<table border=\"1\" class=\"dataframe\">\n",
       "  <thead>\n",
       "    <tr style=\"text-align: right;\">\n",
       "      <th></th>\n",
       "      <th>TARGET_D</th>\n",
       "    </tr>\n",
       "  </thead>\n",
       "  <tbody>\n",
       "    <tr>\n",
       "      <th>54256</th>\n",
       "      <td>20.0</td>\n",
       "    </tr>\n",
       "    <tr>\n",
       "      <th>17623</th>\n",
       "      <td>20.0</td>\n",
       "    </tr>\n",
       "    <tr>\n",
       "      <th>66327</th>\n",
       "      <td>20.0</td>\n",
       "    </tr>\n",
       "    <tr>\n",
       "      <th>78543</th>\n",
       "      <td>15.0</td>\n",
       "    </tr>\n",
       "    <tr>\n",
       "      <th>62055</th>\n",
       "      <td>21.0</td>\n",
       "    </tr>\n",
       "    <tr>\n",
       "      <th>16277</th>\n",
       "      <td>15.0</td>\n",
       "    </tr>\n",
       "  </tbody>\n",
       "</table>\n",
       "</div>"
      ],
      "text/plain": [
       "       TARGET_D\n",
       "54256      20.0\n",
       "17623      20.0\n",
       "66327      20.0\n",
       "78543      15.0\n",
       "62055      21.0\n",
       "16277      15.0"
      ]
     },
     "execution_count": 16,
     "metadata": {},
     "output_type": "execute_result"
    }
   ],
   "source": [
    "false_neg_df=pd.DataFrame(data.loc[false_neg_indices.index,\"TARGET_D\"])\n",
    "false_neg_df"
   ]
  },
  {
   "cell_type": "code",
   "execution_count": 17,
   "id": "5e62e45e",
   "metadata": {},
   "outputs": [
    {
     "data": {
      "text/plain": [
       "TCODE                   0\n",
       "AGE             61.611649\n",
       "INCOME                  5\n",
       "WEALTH1                 9\n",
       "HIT                     0\n",
       "                  ...    \n",
       "LASTDATE_MM             9\n",
       "FIRSTDATE_YR           95\n",
       "FIRSTDATE_MM            2\n",
       "TARGET_B                1\n",
       "TARGET_D             20.0\n",
       "Name: 54256, Length: 339, dtype: object"
      ]
     },
     "execution_count": 17,
     "metadata": {},
     "output_type": "execute_result"
    }
   ],
   "source": [
    "data.iloc[54256]"
   ]
  },
  {
   "cell_type": "code",
   "execution_count": 19,
   "id": "a0bea4ce",
   "metadata": {},
   "outputs": [
    {
     "name": "stdout",
     "output_type": "stream",
     "text": [
      "The potential loss due to false negative predictions is: $111.00\n",
      "The potential loss due to false negative predictions is: 0.15% of the total donations received: 75668.70\n"
     ]
    }
   ],
   "source": [
    "potential_donation_loss=((false_neg_df[\"TARGET_D\"].sum())/total_donations)*100\n",
    "print(\"The potential loss due to false negative predictions is: ${:.2f}\".format(false_neg_df[\"TARGET_D\"].sum()))\n",
    "print(\"The potential loss due to false negative predictions is: {:.2f}% of the total donations received: {:.2f}\".format(potential_donation_loss, total_donations))"
   ]
  },
  {
   "cell_type": "markdown",
   "id": "470daa28",
   "metadata": {},
   "source": [
    "- Sklearn classification models are trained to maximize the accuracy. However, another error metric will be more relevant here. Which one? Please checkout make_scorer alongside with GridSearchCV in order to train the model to maximize the error metric of interest in this case."
   ]
  },
  {
   "cell_type": "markdown",
   "id": "e1684e99",
   "metadata": {},
   "source": [
    "Here I would take F1 instead of accuracy, because it is a balanced error metric against false positives and false negatives, and it is particularly suitable for class imbalance situations, since it gives equal weigth to false positives and negatives - meaning the possibility of misjudging on the minority class is reduced as compared to accuracy."
   ]
  },
  {
   "cell_type": "code",
   "execution_count": null,
   "id": "30a1a88f",
   "metadata": {},
   "outputs": [],
   "source": [
    "from sklearn.model_selection import GridSearchCV\n",
    "from sklearn.metrics import make_scorer, f1_score\n",
    "\n",
    "#creating an instance for the model:\n",
    "clf2 = RandomForestClassifier(random_state=42)\n",
    "\n",
    "#the computational time was extremely high on a broader param_grid, so I decided to narrow down \n",
    "#the grid ranges to be closer to the parameters defined previously, since they performed very well already:\n",
    "best_params = {'max_depth': 5,\n",
    "    'min_samples_split': 20,\n",
    "    'min_samples_leaf': 20,\n",
    "    'max_samples': 0.8}\n",
    "\n",
    "param_grid_narrow = {'max_depth': [best_params['max_depth'], best_params['max_depth'] + 1, best_params['max_depth'] - 1],\n",
    "    'min_samples_split': [best_params['min_samples_split'], best_params['min_samples_split'] + 5, best_params['min_samples_split'] - 5],\n",
    "    'min_samples_leaf': [best_params['min_samples_leaf'], best_params['min_samples_leaf'] + 5, best_params['min_samples_leaf'] - 5],\n",
    "    'max_samples': [best_params['max_samples'], best_params['max_samples'] + 0.1, best_params['max_samples'] - 0.1]}\n",
    "\n",
    "\n",
    "\n",
    "#applying the scorer on F1:\n",
    "scorer = make_scorer(f1_score)\n",
    "\n",
    "grid_search = GridSearchCV(clf2, param_grid_narrow, scoring=scorer, cv=5)\n",
    "\n",
    "#fitting the model on the train_oversampled data:\n",
    "grid_search.fit(X_train_oversampled, y_train_oversampled)\n",
    "\n",
    "print(\"Best Parameters:\", grid_search.best_params_)\n",
    "print(\"Best F1 Score:\", grid_search.best_score_)\n",
    "\n",
    "#getting the best model from the grid search:\n",
    "best_model = grid_search.best_estimator_\n",
    "\n",
    "#evaluating the best model on the test set:\n",
    "y_test_pred_best = best_model.predict(X_test)\n",
    "\n",
    "print(\"The best parameter's accuracy in the TEST set is: {:.2f}\".format(accuracy_score(y_test,y_test_pred_best)))\n",
    "print(\"The best parameter's precision in the TEST set is: {:.2f}\".format(precision_score(y_test,y_test_pred_best)))\n",
    "print(\"The best parameter's recall in the TEST set is: {:.2f}\".format(recall_score(y_test,y_test_pred_best)))\n",
    "print(\"The best parameter's F1 in the TEST set is: {:.2f}\".format(f1_score(y_test,y_test_pred_best)))\n",
    "print(\"The best parameter's Kappa in the TEST set is: {:.2f}\".format(cohen_kappa_score(y_test,y_test_pred_best)))"
   ]
  },
  {
   "cell_type": "markdown",
   "id": "479ee716",
   "metadata": {},
   "source": [
    "Given the previous results:\n",
    "\n",
    "The accuracy in the TEST set is: 0.99\n",
    "The precision in the TEST set is: 0.89\n",
    "The recall in the TEST set is: 0.99\n",
    "The F1 in the TEST set is: 0.94\n",
    "The Kappa in the TEST set is: 0.93"
   ]
  }
 ],
 "metadata": {
  "kernelspec": {
   "display_name": "Python 3 (ipykernel)",
   "language": "python",
   "name": "python3"
  },
  "language_info": {
   "codemirror_mode": {
    "name": "ipython",
    "version": 3
   },
   "file_extension": ".py",
   "mimetype": "text/x-python",
   "name": "python",
   "nbconvert_exporter": "python",
   "pygments_lexer": "ipython3",
   "version": "3.11.5"
  }
 },
 "nbformat": 4,
 "nbformat_minor": 5
}
